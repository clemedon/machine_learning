{
 "cells": [
  {
   "cell_type": "markdown",
   "metadata": {},
   "source": [
    "![Scikit-learn logo](https://scipy-lectures.org/_images/scikit-learn-logo.png)\n",
    "\n",
    "With [Scikit-learn](https://scikit-learn.org/stable/) you need to classify handwritten digits.\n",
    "\n",
    "\n",
    "![MNIST data sample](https://upload.wikimedia.org/wikipedia/commons/2/27/MnistExamples.png)"
   ]
  },
  {
   "cell_type": "code",
   "execution_count": 12,
   "metadata": {},
   "outputs": [
    {
     "name": "stdout",
     "output_type": "stream",
     "text": [
      "(1797, 64)\n",
      "(1797,)\n"
     ]
    }
   ],
   "source": [
    "import pandas as pd\n",
    "import numpy as np\n",
    "from sklearn.datasets import load_digits\n",
    "\n",
    "# Loading the MNIST sample dataset\n",
    "data = load_digits()\n",
    "\n",
    "# Extracting Attributes / Features\n",
    "X = data.data\n",
    "print(X.shape)\n",
    "\n",
    "# Extracting Target / Class Labels\n",
    "y = data.target\n",
    "print(y.shape)"
   ]
  },
  {
   "cell_type": "markdown",
   "metadata": {},
   "source": [
    "# The dataset\n",
    "\n",
    "\n",
    "## X of shape (1797, 64) and of type float64\n",
    "\n",
    "There is a total of `1797` examples.\n",
    "\n",
    "Each datapoint is a flattened 8x8 image of a digit, giving you a total of `64` features\n",
    "\n",
    "## y of shape (1797,) and of type int64\n",
    "\n",
    "The answer associated with each datapoint.\n",
    "\n",
    "As there is `1797` examples, there is `1797` answers as well.\n",
    "\n",
    "It is a one dimensional vector with the value of the hand written digit\n",
    "\n",
    "\n"
   ]
  },
  {
   "cell_type": "code",
   "execution_count": 13,
   "metadata": {},
   "outputs": [
    {
     "name": "stdout",
     "output_type": "stream",
     "text": [
      "Here is the shape of the first example:\n",
      "X[i].shape = (64,)\n",
      "\n",
      "And here is its content:\n",
      "X[i] = array([ 0.,  0.,  5., 13.,  9.,  1.,  0.,  0.,  0.,  0., 13., 15., 10.,\n",
      "       15.,  5.,  0.,  0.,  3., 15.,  2.,  0., 11.,  8.,  0.,  0.,  4.,\n",
      "       12.,  0.,  0.,  8.,  8.,  0.,  0.,  5.,  8.,  0.,  0.,  9.,  8.,\n",
      "        0.,  0.,  4., 11.,  0.,  1., 12.,  7.,  0.,  0.,  2., 14.,  5.,\n",
      "       10., 12.,  0.,  0.,  0.,  0.,  6., 13., 10.,  0.,  0.,  0.])\n",
      "\n",
      "The hand written digit for this answer is:\n",
      "y[i] = 0\n"
     ]
    }
   ],
   "source": [
    "\n",
    "# Let's explore the first example in the dataset:\n",
    "i = 0\n",
    "print(f\"Here is the shape of the first example:\")\n",
    "print(f\"{X[i].shape = }\\n\")\n",
    "\n",
    "print(f\"And here is its content:\")\n",
    "print(f\"{X[i] = }\\n\")\n",
    "\n",
    "# Let's have a look at its associated answer\n",
    "\n",
    "print(f\"The hand written digit for this answer is:\")\n",
    "print(f\"{y[i] = }\")\n",
    "\n",
    "# The first example is an handwritten 0 !\n"
   ]
  },
  {
   "cell_type": "markdown",
   "metadata": {},
   "source": [
    "If you are missing inspiration, here is a great place to start: [Sklearn documentation example](https://scikit-learn.org/stable/auto_examples/classification/plot_digits_classification.html#sphx-glr-auto-examples-classification-plot-digits-classification-py)\n",
    "\n",
    "Good luck !"
   ]
  },
  {
   "cell_type": "code",
   "execution_count": 14,
   "metadata": {},
   "outputs": [],
   "source": [
    "from sklearn import svm, metrics\n",
    "from sklearn.model_selection import train_test_split\n",
    "import matplotlib.pyplot as plt"
   ]
  },
  {
   "cell_type": "markdown",
   "metadata": {},
   "source": [
    "# The classification\n",
    "\n",
    "To apply a classifier on this data, we flatten the images making the entire\n",
    "dataset of shape `(n_samples,n_features)` where\n",
    "`n_samples` is the number of images and `n_features` each image's number of pixels"
   ]
  },
  {
   "cell_type": "markdown",
   "metadata": {},
   "source": [
    "## Flatten the images\n",
    "\n",
    "    For example: Becomes:\n",
    "    00110 (4,4)  00110010101111100010 (1,20)\n",
    "    01010\n",
    "    11111\n",
    "    00010"
   ]
  },
  {
   "cell_type": "code",
   "execution_count": 15,
   "metadata": {},
   "outputs": [],
   "source": [
    "n_label = len(data.images)\n",
    "#>> 1797\n",
    "\n",
    "flatten_data = data.images.reshape((n_label, -1))\n",
    "#>> [[ 0.  0.  5. ...  0.  0.  0.]\n",
    "#>>  ...\n",
    "#>>  [ 0.  0. 10. ... 12.  1.  0.]]"
   ]
  },
  {
   "cell_type": "markdown",
   "metadata": {},
   "source": [
    "## Create a support vector classifier\n",
    "\n",
    "Radial Basis Function (RBF) kernel hyper parameters: \n",
    "- A lower `gamma` increases accuracy but decreases performance.\n",
    "- A lower `c` increases performance but decreases accuracy."
   ]
  },
  {
   "cell_type": "code",
   "execution_count": 16,
   "metadata": {},
   "outputs": [],
   "source": [
    "clf = svm.SVC(kernel = 'rbf', gamma=0.001, C=1.0)"
   ]
  },
  {
   "cell_type": "markdown",
   "metadata": {},
   "source": [
    "> We can optimize our model precision b\n",
    "\n",
    "## Split data into 50% train and 50% test subsets"
   ]
  },
  {
   "cell_type": "code",
   "execution_count": 17,
   "metadata": {},
   "outputs": [],
   "source": [
    "X_train, X_test, y_train, y_test = train_test_split(\n",
    "        flatten_data, data.target, test_size=0.5, random_state=0\n",
    "        )"
   ]
  },
  {
   "cell_type": "markdown",
   "metadata": {},
   "source": [
    "> We can optimize the shuffle quality by comparing each `avg macro` obtained with different `random_state` seed.\n",
    "\n",
    "## Learn the digits on the train subset"
   ]
  },
  {
   "cell_type": "code",
   "execution_count": 18,
   "metadata": {},
   "outputs": [
    {
     "data": {
      "text/plain": [
       "SVC(gamma=0.001)"
      ]
     },
     "execution_count": 18,
     "metadata": {},
     "output_type": "execute_result"
    }
   ],
   "source": [
    "clf.fit(X_train, y_train)"
   ]
  },
  {
   "cell_type": "markdown",
   "metadata": {},
   "source": [
    "## Predict the value of the digit on the test subset"
   ]
  },
  {
   "cell_type": "code",
   "execution_count": 19,
   "metadata": {},
   "outputs": [
    {
     "data": {
      "image/png": "[encoded data removed]",
      "text/plain": [
       "<Figure size 720x216 with 10 Axes>"
      ]
     },
     "metadata": {
      "needs_background": "light"
     },
     "output_type": "display_data"
    }
   ],
   "source": [
    "predicted = clf.predict(X_test)\n",
    "\n",
    "_, axes = plt.subplots(nrows=1, ncols=10, figsize=(10, 3))\n",
    "for ax, image, prediction in zip(axes, X_test, predicted):\n",
    "    ax.set_axis_off()\n",
    "    image = image.reshape(8, 8)\n",
    "    ax.imshow(image, cmap=plt.cm.gray_r, interpolation=\"nearest\")\n",
    "    ax.set_title(f\"{prediction}\")\n",
    "plt.show()"
   ]
  },
  {
   "cell_type": "markdown",
   "metadata": {},
   "source": [
    "## Report \n",
    "### Main classification metrics"
   ]
  },
  {
   "cell_type": "code",
   "execution_count": 20,
   "metadata": {},
   "outputs": [
    {
     "name": "stdout",
     "output_type": "stream",
     "text": [
      "SVC(gamma=0.001)\n",
      "              precision    recall  f1-score   support\n",
      "\n",
      "           0       1.00      1.00      1.00        89\n",
      "           1       0.97      1.00      0.98        90\n",
      "           2       0.99      0.98      0.98        92\n",
      "           3       1.00      0.99      0.99        93\n",
      "           4       0.99      1.00      0.99        76\n",
      "           5       0.99      0.97      0.98       108\n",
      "           6       0.99      1.00      0.99        89\n",
      "           7       0.99      1.00      0.99        78\n",
      "           8       1.00      0.98      0.99        92\n",
      "           9       0.99      0.99      0.99        92\n",
      "\n",
      "    accuracy                           0.99       899\n",
      "   macro avg       0.99      0.99      0.99       899\n",
      "weighted avg       0.99      0.99      0.99       899\n",
      "\n"
     ]
    }
   ],
   "source": [
    "print(clf)\n",
    "print(metrics.classification_report(y_test, predicted))"
   ]
  },
  {
   "cell_type": "markdown",
   "metadata": {},
   "source": [
    "### Confusion matrix"
   ]
  },
  {
   "cell_type": "code",
   "execution_count": 21,
   "metadata": {},
   "outputs": [
    {
     "data": {
      "image/png": "[encoded data removed]",
      "text/plain": [
       "<Figure size 432x288 with 2 Axes>"
      ]
     },
     "metadata": {
      "needs_background": "light"
     },
     "output_type": "display_data"
    }
   ],
   "source": [
    "disp = metrics.ConfusionMatrixDisplay.from_predictions(y_test, predicted)\n",
    "disp = disp.figure_.suptitle(\"Confusion Matrix\")\n",
    "plt.show()"
   ]
  },
  {
   "cell_type": "markdown",
   "metadata": {},
   "source": [
    "## Observation\n",
    "\n",
    "Each value is detected with an accuracy greater than 97%, we deduce that the choice of our model and its kernel, are adequate."
   ]
  },
  {
   "cell_type": "markdown",
   "metadata": {},
   "source": [
    "## Experimentation\n",
    "\n",
    "To be sure that the accuracy of the results is related to my program I make a test with erroneous samples by turning my test values on the horizontal and vertical axis."
   ]
  },
  {
   "cell_type": "code",
   "execution_count": 22,
   "metadata": {},
   "outputs": [
    {
     "data": {
      "image/png": "[encoded data removed]",
      "text/plain": [
       "<Figure size 720x216 with 10 Axes>"
      ]
     },
     "metadata": {
      "needs_background": "light"
     },
     "output_type": "display_data"
    },
    {
     "name": "stdout",
     "output_type": "stream",
     "text": [
      "              precision    recall  f1-score   support\n",
      "\n",
      "           0       0.97      1.00      0.98        89\n",
      "           1       0.44      0.58      0.50        90\n",
      "           2       0.73      0.50      0.59        92\n",
      "           3       0.00      0.00      0.00        93\n",
      "           4       0.61      0.91      0.73        76\n",
      "           5       0.40      0.55      0.46       108\n",
      "           6       0.00      0.00      0.00        89\n",
      "           7       0.00      0.00      0.00        78\n",
      "           8       0.43      0.82      0.57        92\n",
      "           9       0.00      0.00      0.00        92\n",
      "\n",
      "    accuracy                           0.43       899\n",
      "   macro avg       0.36      0.43      0.38       899\n",
      "weighted avg       0.36      0.43      0.38       899\n",
      "\n"
     ]
    },
    {
     "data": {
      "image/png": "[encoded data removed]",
      "text/plain": [
       "<Figure size 432x288 with 2 Axes>"
      ]
     },
     "metadata": {
      "needs_background": "light"
     },
     "output_type": "display_data"
    }
   ],
   "source": [
    "# Flip the digits vertically and horizontally\n",
    "X_test = np.flipud(X_test)\n",
    "X_test = np.fliplr(X_test)\n",
    "y_test = np.flipud(y_test)\n",
    "\n",
    "# Learn \n",
    "clf.fit(X_train, y_train)\n",
    "\n",
    "# Predict \n",
    "predicted = clf.predict(X_test)\n",
    "_, axes = plt.subplots(nrows=1, ncols=10, figsize=(10, 3))\n",
    "for ax, image, prediction in zip(axes, X_test, predicted):\n",
    "    ax.set_axis_off()\n",
    "    image = image.reshape(8, 8)\n",
    "    ax.imshow(image, cmap=plt.cm.gray_r, interpolation=\"nearest\")\n",
    "    ax.set_title(f\"{prediction}\")\n",
    "plt.show()\n",
    "    \n",
    "# Classification metrics    \n",
    "print(metrics.classification_report(y_test, predicted))\n",
    "\n",
    "# Confusion Matrix\n",
    "disp = metrics.ConfusionMatrixDisplay.from_predictions(y_test, predicted)\n",
    "disp = disp.figure_.suptitle(\"Confusion Matrix\")\n",
    "plt.show()"
   ]
  },
  {
   "cell_type": "markdown",
   "metadata": {},
   "source": [
    "## Observation\n",
    "\n",
    "We notice as we expected that the accuracy has drastically decreased, reaching an average of 36%. Logically, the '0' and '8' which have symmetry on both axes keep an accuracy higher than 75%. We also notice that the '6' is detected as a '9', as excpected. These results confirm an intuitive working of our model. We can also notice some intriguing results such as the '9' which is not detected as a '6' with as much accuracy as the '6->9' because the model tends to confuse it with a '5' probably because of the lower loop of the '5' which, too closed, makes it look like a '6'."
   ]
  },
  {
   "cell_type": "markdown",
   "metadata": {},
   "source": [
    "## Sources\n",
    "\n",
    "- [developers.google.com](https://developers.google.com/machine-learning/glossary) - glossary\n",
    "- [medium.com](https://medium.com/@himanshubeniwal/handwritten-digit-recognition-using-machine-learning-ad30562a9b64) - ml handwritten recon \n",
    "- [scikit-learn.org](https://scikit-learn.org/stable/auto_examples/classification/plot_digits_classification.html) - main tutorial\n",
    "- [youtu.be](https://youtu.be/FB5EdxAGxQg) - SVM\n",
    "- [zestdesavoir.com](https://zestedesavoir.com/tutoriels/1760/un-peu-de-machine-learning-avec-les-svm/) - SVM\n",
    "- [scikit-learn.org](https://scikit-learn.org/stable/auto_examples/svm/plot_rbf_parameters.html) - RBF params\n",
    "- [towarddatascience.com](https://towardsdatascience.com/hyperparameter-tuning-for-support-vector-machines-c-and-gamma-parameters-6a5097416167) - RBF params\n",
    "- [medium.com](https://medium.com/@myselfaman12345/c-and-gamma-in-svm-e6cee48626be) - RBF params\n",
    "- [stackoverflow](https://stackoverflow.com/questions/58955816/difference-between-shuffle-and-random-state-in-train-test-split) - train-test-split method\n",
    "- [scikit-learn.org](https://scikit-learn.org/stable/modules/generated/sklearn.metrics.precision_recall_fscore_support.html) - classification metrics\n"
   ]
  }
 ],
 "metadata": {
  "interpreter": {
   "hash": "916dbcbb3f70747c44a77c7bcd40155683ae19c65e1c03b4aa3499c5328201f1"
  },
  "kernelspec": {
   "display_name": "Python 3 (ipykernel)",
   "language": "python",
   "name": "python3"
  },
  "language_info": {
   "codemirror_mode": {
    "name": "ipython",
    "version": 3
   },
   "file_extension": ".py",
   "mimetype": "text/x-python",
   "name": "python",
   "nbconvert_exporter": "python",
   "pygments_lexer": "ipython3",
   "version": "3.8.10"
  }
 },
 "nbformat": 4,
 "nbformat_minor": 2
}
