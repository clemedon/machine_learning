{
 "cells": [
  {
   "cell_type": "markdown",
   "metadata": {},
   "source": [
    "![Scikit-learn logo](https://scipy-lectures.org/_images/scikit-learn-logo.png)\n",
    "\n",
    "With [Scikit-learn](https://scikit-learn.org/stable/) you need to classify handwritten digits.\n",
    "\n",
    "\n",
    "![MNIST data sample](https://upload.wikimedia.org/wikipedia/commons/2/27/MnistExamples.png)"
   ]
  },
  {
   "cell_type": "code",
   "execution_count": 3,
   "metadata": {},
   "outputs": [
    {
     "name": "stdout",
     "output_type": "stream",
     "text": [
      "(1797, 64)\n",
      "(1797,)\n"
     ]
    }
   ],
   "source": [
    "import pandas as pd\n",
    "import numpy as np\n",
    "from sklearn.datasets import load_digits\n",
    "\n",
    "# Loading the MNIST sample dataset\n",
    "data = load_digits()\n",
    "\n",
    "# Extracting Attributes / Features\n",
    "X = data.data\n",
    "print(X.shape)\n",
    "\n",
    "# Extracting Target / Class Labels\n",
    "y = data.target\n",
    "print(y.shape)"
   ]
  },
  {
   "cell_type": "markdown",
   "metadata": {},
   "source": [
    "# The dataset\n",
    "\n",
    "\n",
    "## X of shape (1797, 64) and of type float64\n",
    "\n",
    "There is a total of `1797` examples.\n",
    "\n",
    "Each datapoint is a flattened 8x8 image of a digit, giving you a total of `64` features\n",
    "\n",
    "## y of shape (1797,) and of type int64\n",
    "\n",
    "The answer associated with each datapoint.\n",
    "\n",
    "As there is `1797` examples, there is `1797` answers as well.\n",
    "\n",
    "It is a one dimensional vector with the value of the hand written digit\n",
    "\n",
    "\n"
   ]
  },
  {
   "cell_type": "code",
   "execution_count": 4,
   "metadata": {},
   "outputs": [
    {
     "name": "stdout",
     "output_type": "stream",
     "text": [
      "Here is the shape of the first example:\n",
      "X[i].shape = (64,)\n",
      "\n",
      "And here is its content:\n",
      "X[i] = array([ 0.,  0.,  5., 13.,  9.,  1.,  0.,  0.,  0.,  0., 13., 15., 10.,\n",
      "       15.,  5.,  0.,  0.,  3., 15.,  2.,  0., 11.,  8.,  0.,  0.,  4.,\n",
      "       12.,  0.,  0.,  8.,  8.,  0.,  0.,  5.,  8.,  0.,  0.,  9.,  8.,\n",
      "        0.,  0.,  4., 11.,  0.,  1., 12.,  7.,  0.,  0.,  2., 14.,  5.,\n",
      "       10., 12.,  0.,  0.,  0.,  0.,  6., 13., 10.,  0.,  0.,  0.])\n",
      "\n",
      "The hand written digit for this answer is:\n",
      "y[i] = 0\n"
     ]
    }
   ],
   "source": [
    "\n",
    "# Let's explore the first example in the dataset:\n",
    "i = 0\n",
    "print(f\"Here is the shape of the first example:\")\n",
    "print(f\"{X[i].shape = }\\n\")\n",
    "\n",
    "print(f\"And here is its content:\")\n",
    "print(f\"{X[i] = }\\n\")\n",
    "\n",
    "# Let's have a look at its associated answer\n",
    "\n",
    "print(f\"The hand written digit for this answer is:\")\n",
    "print(f\"{y[i] = }\")\n",
    "\n",
    "# The first example is an handwritten 0 !\n"
   ]
  },
  {
   "cell_type": "markdown",
   "metadata": {},
   "source": [
    "If you are missing inspiration, here is a great place to start: [Sklearn documentation example](https://scikit-learn.org/stable/auto_examples/classification/plot_digits_classification.html#sphx-glr-auto-examples-classification-plot-digits-classification-py)\n",
    "\n",
    "Good luck !"
   ]
  },
  {
   "cell_type": "code",
   "execution_count": 5,
   "metadata": {},
   "outputs": [],
   "source": [
    "from sklearn import svm\n",
    "from sklearn.model_selection import train_test_split\n",
    "import matplotlib.pyplot as plt"
   ]
  },
  {
   "cell_type": "markdown",
   "metadata": {},
   "source": [
    "# The classification\n",
    "\n",
    "To apply a classifier on this data, we flatten the images making the entire\n",
    "dataset of shape `(n_samples,n_features)` where\n",
    "`n_samples` is the number of images and `n_features` each image's number of pixels\n",
    "\n"
   ]
  },
  {
   "cell_type": "markdown",
   "metadata": {},
   "source": [
    "## Flatten the images\n",
    "\n",
    "    For example: Becomes:\n",
    "    00110 (4,4)  00110010101111100010 (1,20)\n",
    "    01010\n",
    "    11111\n",
    "    00010"
   ]
  },
  {
   "cell_type": "code",
   "execution_count": 6,
   "metadata": {},
   "outputs": [],
   "source": [
    "n_samples = len(data.images)\n",
    "#>> 1797\n",
    "flatten_data = data.images.reshape((n_samples, -1))"
   ]
  },
  {
   "cell_type": "markdown",
   "metadata": {},
   "source": [
    "## Create a support vector classifier\n",
    "\n",
    "A lower `gamma` will increase accuracy but decrease the performances.\n",
    "gamma =            low=accuracy high=perf\n",
    "C = regularization low=perf high=accuracy"
   ]
  },
  {
   "cell_type": "code",
   "execution_count": 7,
   "metadata": {},
   "outputs": [
    {
     "name": "stdout",
     "output_type": "stream",
     "text": [
      "SVC(gamma=0.001)\n",
      "R²=0.9260815260588169\n"
     ]
    },
    {
     "ename": "NameError",
     "evalue": "name 'metrics' is not defined",
     "output_type": "error",
     "traceback": [
      "\u001b[0;31m---------------------------------------------------------------------------\u001b[0m",
      "\u001b[0;31mNameError\u001b[0m                                 Traceback (most recent call last)",
      "Input \u001b[0;32mIn [7]\u001b[0m, in \u001b[0;36m<module>\u001b[0;34m\u001b[0m\n\u001b[1;32m     30\u001b[0m     \u001b[38;5;28;01mreturn\u001b[39;00m \u001b[38;5;241m1\u001b[39m \u001b[38;5;241m-\u001b[39m u \u001b[38;5;241m/\u001b[39m v\n\u001b[1;32m     31\u001b[0m \u001b[38;5;28mprint\u001b[39m(\u001b[38;5;124mf\u001b[39m\u001b[38;5;124m\"\u001b[39m\u001b[38;5;124mR²=\u001b[39m\u001b[38;5;132;01m{\u001b[39;00mcoef_determination(y_test, predicted)\u001b[38;5;132;01m}\u001b[39;00m\u001b[38;5;124m\"\u001b[39m)\n\u001b[0;32m---> 33\u001b[0m disp \u001b[38;5;241m=\u001b[39m \u001b[43mmetrics\u001b[49m\u001b[38;5;241m.\u001b[39mConfusionMatrixDisplay\u001b[38;5;241m.\u001b[39mfrom_predictions(y_test, predicted)\n\u001b[1;32m     34\u001b[0m disp\u001b[38;5;241m.\u001b[39mfigure_\u001b[38;5;241m.\u001b[39msuptitle(\u001b[38;5;124m\"\u001b[39m\u001b[38;5;124mConfusion Matrix\u001b[39m\u001b[38;5;124m\"\u001b[39m)\n\u001b[1;32m     36\u001b[0m plt\u001b[38;5;241m.\u001b[39mshow()\n",
      "\u001b[0;31mNameError\u001b[0m: name 'metrics' is not defined"
     ]
    },
    {
     "data": {
      "image/png": "[encoded data removed]",
      "text/plain": [
       "<Figure size 720x216 with 10 Axes>"
      ]
     },
     "metadata": {
      "needs_background": "light"
     },
     "output_type": "display_data"
    }
   ],
   "source": [
    "clf = svm.SVC(kernel = 'rbf', gamma=0.001, C=1.0)\n",
    "\n",
    "\n",
    "## Split data into 50% train and 50% test subsets\n",
    "X_train, X_test, y_train, y_test = train_test_split(\n",
    "        flatten_data, data.target, test_size=0.5, shuffle=False\n",
    "        )\n",
    "\n",
    "## Learn the digits on the train subset\n",
    "clf.fit(X_train, y_train)\n",
    "\n",
    "## Predict the value of the digit on the test subset\n",
    "predicted = clf.predict(X_test)\n",
    "\n",
    "_, axes = plt.subplots(nrows=1, ncols=10, figsize=(10, 3))\n",
    "for ax, image, prediction in zip(axes, X_test, predicted):\n",
    "    ax.set_axis_off()\n",
    "    image = image.reshape(8, 8)\n",
    "    ax.imshow(image, cmap=plt.cm.gray_r, interpolation=\"nearest\")\n",
    "    ax.set_title(f\"{prediction}\")\n",
    "\n",
    "    \n",
    "## Report the main classification metrics\n",
    "\n",
    "print(clf)\n",
    "\n",
    "def coef_determination(y, pred):\n",
    "    u = ((y - pred) ** 2).sum()\n",
    "    v = ((y - y.mean()) ** 2).sum()\n",
    "    return 1 - u / v\n",
    "print(f\"R²={coef_determination(y_test, predicted)}\")\n",
    "\n",
    "disp = metrics.ConfusionMatrixDisplay.from_predictions(y_test, predicted)\n",
    "disp.figure_.suptitle(\"Confusion Matrix\")\n",
    "\n",
    "plt.show()\n",
    "    "
   ]
  },
  {
   "cell_type": "markdown",
   "metadata": {},
   "source": [
    "\tThis is a markdown cell for you to document your thought and research process"
   ]
  }
 ],
 "metadata": {
  "interpreter": {
   "hash": "916dbcbb3f70747c44a77c7bcd40155683ae19c65e1c03b4aa3499c5328201f1"
  },
  "kernelspec": {
   "display_name": "Python 3 (ipykernel)",
   "language": "python",
   "name": "python3"
  },
  "language_info": {
   "codemirror_mode": {
    "name": "ipython",
    "version": 3
   },
   "file_extension": ".py",
   "mimetype": "text/x-python",
   "name": "python",
   "nbconvert_exporter": "python",
   "pygments_lexer": "ipython3",
   "version": "3.8.10"
  }
 },
 "nbformat": 4,
 "nbformat_minor": 2
}
